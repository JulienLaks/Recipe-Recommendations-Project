{
 "cells": [
  {
   "cell_type": "code",
   "execution_count": 215,
   "metadata": {},
   "outputs": [],
   "source": [
    "import warnings\n",
    "warnings.filterwarnings(\"ignore\")\n",
    "\n",
    "import pandas as pd\n",
    "import os\n",
    "import matplotlib.pyplot as plt\n",
    "import seaborn as sns\n",
    "import numpy as np\n",
    "sns.set()"
   ]
  },
  {
   "cell_type": "code",
   "execution_count": 216,
   "metadata": {},
   "outputs": [],
   "source": [
    "import gensim\n",
    "from gensim.utils import simple_preprocess\n",
    "from gensim.parsing.preprocessing import STOPWORDS\n",
    "from nltk.stem import WordNetLemmatizer, SnowballStemmer\n",
    "import numpy as np"
   ]
  },
  {
   "cell_type": "code",
   "execution_count": 217,
   "metadata": {},
   "outputs": [],
   "source": [
    "#load reviews\n",
    "reviews=pd.read_csv(\"reviews_clean.csv\")\n",
    "reviews=reviews.dropna()\n",
    "\n",
    "#load recipes\n",
    "recipes=pd.read_csv(\"recipes_clean.csv\")\n",
    "\n",
    "#Convert ingredient and ingredient strings into ingredient lists\n",
    "recipes[\"Ingredients_clean\"]=recipes[\"Ingredients_clean\"].apply(eval)\n",
    "recipes[\"Ingredients_clean\"]=recipes[\"Ingredients_clean\"].apply(lambda x : list(set(x)))\n",
    "recipes[\"Instructions\"]=recipes[\"Instructions\"].apply(lambda x : simple_preprocess(\" \".join(eval(x))))"
   ]
  },
  {
   "cell_type": "code",
   "execution_count": 218,
   "metadata": {},
   "outputs": [],
   "source": [
    "def plot_recipes(recipe_list) :\n",
    "    images=[]\n",
    "    labels=[]\n",
    "    for recipe_ID in recipe_list :\n",
    "        images.append(\"Images/{}.jpg\".format(recipe_ID))\n",
    "        labels.append(recipes[recipes[\"Recipe_ID\"]==recipe_ID][\"Recipe_name\"].iloc[0]+\" \"+str(recipes[recipes[\"Recipe_ID\"]==recipe_ID][\"Rating\"].iloc[0]))\n",
    "        #labels.append(recipes.iloc[recipe_ID][\"Recipe_name\"])\n",
    "          \n",
    "    images=np.array(images)\n",
    "    labels=np.array(labels)\n",
    "    \n",
    "    ipyplot.plot_images(images, labels=labels,max_images=100, img_width=150);\n",
    "    \n",
    "    return(images,labels)\n",
    "    \n",
    "\n",
    "def index_to_recipe_id(index_list) :\n",
    "    id_list=[]\n",
    "    for index in index_list :\n",
    "        id_list.append(recipes[\"Recipe_ID\"].iloc[index])\n",
    "    return id_list\n",
    "\n",
    "import ipyplot\n",
    "\n",
    "def index_to_id(index_list) :\n",
    "    id_list=[]\n",
    "    for index in index_list :\n",
    "        id_list.append(recipes[\"Recipe_ID\"].iloc[index])\n",
    "    return id_list\n",
    "\n",
    "import ipyplot"
   ]
  },
  {
   "cell_type": "markdown",
   "metadata": {},
   "source": [
    "### Content-base recipe retrieval with TFIDF (using recipe instructions)"
   ]
  },
  {
   "cell_type": "code",
   "execution_count": 219,
   "metadata": {},
   "outputs": [],
   "source": [
    "import gensim\n",
    "from gensim.utils import simple_preprocess\n",
    "from gensim.parsing.preprocessing import STOPWORDS\n",
    "from nltk.stem import WordNetLemmatizer, SnowballStemmer\n",
    "from gensim.models import TfidfModel\n",
    "from gensim.similarities import MatrixSimilarity\n",
    "from gensim.corpora import Dictionary\n",
    "import numpy as np"
   ]
  },
  {
   "cell_type": "code",
   "execution_count": 220,
   "metadata": {},
   "outputs": [],
   "source": [
    "#Define Dictionary of Ingredients\n",
    "dictionary = Dictionary(recipes[\"Instructions\"])\n",
    "\n",
    "#Fiter Ingredients that appear in at least 10 recipes\n",
    "dictionary.filter_extremes(no_below=100,no_above=0.5)"
   ]
  },
  {
   "cell_type": "code",
   "execution_count": 221,
   "metadata": {},
   "outputs": [
    {
     "data": {
      "text/plain": [
       "1511"
      ]
     },
     "execution_count": 221,
     "metadata": {},
     "output_type": "execute_result"
    }
   ],
   "source": [
    "len(dictionary)"
   ]
  },
  {
   "cell_type": "code",
   "execution_count": 222,
   "metadata": {},
   "outputs": [],
   "source": [
    "bow_corpus = [dictionary.doc2bow(ingredients) for ingredients in recipes[\"Instructions\"]]\n",
    "model=TfidfModel(bow_corpus)\n",
    "index = MatrixSimilarity(bow_corpus, num_features=len(dictionary))"
   ]
  },
  {
   "cell_type": "code",
   "execution_count": 229,
   "metadata": {
    "scrolled": false
   },
   "outputs": [
    {
     "data": {
      "text/html": [
       "<div style=\"display: inline-block; width: 170px; vertical-align: top; text-align: center;\"><h4 style=\"font-size: 12px\">Oatmeal Blueberry Muffins 4.12</h4><h4 style=\"font-size: 9px; padding-left: 10px; padding-right: 10px; width: 90%; word-wrap: break-word; white-space: normal;\">Images/6766.jpg</h4><img src=\"Images/6766.jpg\" style=\"margin: 1px; width: 150px; border: 2px solid #ddd;\"/></div><div style=\"display: inline-block; width: 170px; vertical-align: top; text-align: center;\"><h4 style=\"font-size: 12px\">Berry Oatmeal Muffins 4.357142857142857</h4><h4 style=\"font-size: 9px; padding-left: 10px; padding-right: 10px; width: 90%; word-wrap: break-word; white-space: normal;\">Images/75353.jpg</h4><img src=\"Images/75353.jpg\" style=\"margin: 1px; width: 150px; border: 2px solid #ddd;\"/></div><div style=\"display: inline-block; width: 170px; vertical-align: top; text-align: center;\"><h4 style=\"font-size: 12px\">Blueberry Muffins I 4.238938053097345</h4><h4 style=\"font-size: 9px; padding-left: 10px; padding-right: 10px; width: 90%; word-wrap: break-word; white-space: normal;\">Images/7905.jpg</h4><img src=\"Images/7905.jpg\" style=\"margin: 1px; width: 150px; border: 2px solid #ddd;\"/></div><div style=\"display: inline-block; width: 170px; vertical-align: top; text-align: center;\"><h4 style=\"font-size: 12px\">Lemon Muffins 3.596026490066225</h4><h4 style=\"font-size: 9px; padding-left: 10px; padding-right: 10px; width: 90%; word-wrap: break-word; white-space: normal;\">Images/7908.jpg</h4><img src=\"Images/7908.jpg\" style=\"margin: 1px; width: 150px; border: 2px solid #ddd;\"/></div><div style=\"display: inline-block; width: 170px; vertical-align: top; text-align: center;\"><h4 style=\"font-size: 12px\">Whole Wheat Muffins 4.162162162162162</h4><h4 style=\"font-size: 9px; padding-left: 10px; padding-right: 10px; width: 90%; word-wrap: break-word; white-space: normal;\">Images/7912.jpg</h4><img src=\"Images/7912.jpg\" style=\"margin: 1px; width: 150px; border: 2px solid #ddd;\"/></div><div style=\"display: inline-block; width: 170px; vertical-align: top; text-align: center;\"><h4 style=\"font-size: 12px\">Zucchini Muffins 3.5205479452054798</h4><h4 style=\"font-size: 9px; padding-left: 10px; padding-right: 10px; width: 90%; word-wrap: break-word; white-space: normal;\">Images/6886.jpg</h4><img src=\"Images/6886.jpg\" style=\"margin: 1px; width: 150px; border: 2px solid #ddd;\"/></div><div style=\"display: inline-block; width: 170px; vertical-align: top; text-align: center;\"><h4 style=\"font-size: 12px\">Chocolate Chip Muffins 3.977245508982036</h4><h4 style=\"font-size: 9px; padding-left: 10px; padding-right: 10px; width: 90%; word-wrap: break-word; white-space: normal;\">Images/7906.jpg</h4><img src=\"Images/7906.jpg\" style=\"margin: 1px; width: 150px; border: 2px solid #ddd;\"/></div><div style=\"display: inline-block; width: 170px; vertical-align: top; text-align: center;\"><h4 style=\"font-size: 12px\">Banana Chip Muffins I 4.225694444444445</h4><h4 style=\"font-size: 9px; padding-left: 10px; padding-right: 10px; width: 90%; word-wrap: break-word; white-space: normal;\">Images/6957.jpg</h4><img src=\"Images/6957.jpg\" style=\"margin: 1px; width: 150px; border: 2px solid #ddd;\"/></div><div style=\"display: inline-block; width: 170px; vertical-align: top; text-align: center;\"><h4 style=\"font-size: 12px\">Apple Muffins 4.252525252525253</h4><h4 style=\"font-size: 9px; padding-left: 10px; padding-right: 10px; width: 90%; word-wrap: break-word; white-space: normal;\">Images/7904.jpg</h4><img src=\"Images/7904.jpg\" style=\"margin: 1px; width: 150px; border: 2px solid #ddd;\"/></div><div style=\"display: inline-block; width: 170px; vertical-align: top; text-align: center;\"><h4 style=\"font-size: 12px\">Jam Muffins 3.9080459770114944</h4><h4 style=\"font-size: 9px; padding-left: 10px; padding-right: 10px; width: 90%; word-wrap: break-word; white-space: normal;\">Images/7907.jpg</h4><img src=\"Images/7907.jpg\" style=\"margin: 1px; width: 150px; border: 2px solid #ddd;\"/></div>"
      ],
      "text/plain": [
       "<IPython.core.display.HTML object>"
      ]
     },
     "metadata": {},
     "output_type": "display_data"
    }
   ],
   "source": [
    "plot_recipes(index_to_id(index[bow_corpus[100]].argsort()[-10:][::-1]));"
   ]
  },
  {
   "cell_type": "code",
   "execution_count": 230,
   "metadata": {},
   "outputs": [
    {
     "data": {
      "text/html": [
       "<div style=\"display: inline-block; width: 170px; vertical-align: top; text-align: center;\"><h4 style=\"font-size: 12px\">Cheesy Vegetable Soup I 4.536231884057972</h4><h4 style=\"font-size: 9px; padding-left: 10px; padding-right: 10px; width: 90%; word-wrap: break-word; white-space: normal;\">Images/13375.jpg</h4><img src=\"Images/13375.jpg\" style=\"margin: 1px; width: 150px; border: 2px solid #ddd;\"/></div><div style=\"display: inline-block; width: 170px; vertical-align: top; text-align: center;\"><h4 style=\"font-size: 12px\">Easy Potato Cheese Soup 4.090909090909091</h4><h4 style=\"font-size: 9px; padding-left: 10px; padding-right: 10px; width: 90%; word-wrap: break-word; white-space: normal;\">Images/13379.jpg</h4><img src=\"Images/13379.jpg\" style=\"margin: 1px; width: 150px; border: 2px solid #ddd;\"/></div><div style=\"display: inline-block; width: 170px; vertical-align: top; text-align: center;\"><h4 style=\"font-size: 12px\">Broccoli Cheese Soup V 4.670694864048339</h4><h4 style=\"font-size: 9px; padding-left: 10px; padding-right: 10px; width: 90%; word-wrap: break-word; white-space: normal;\">Images/15113.jpg</h4><img src=\"Images/15113.jpg\" style=\"margin: 1px; width: 150px; border: 2px solid #ddd;\"/></div><div style=\"display: inline-block; width: 170px; vertical-align: top; text-align: center;\"><h4 style=\"font-size: 12px\">Cheeseburger Soup I 4.513274336283187</h4><h4 style=\"font-size: 9px; padding-left: 10px; padding-right: 10px; width: 90%; word-wrap: break-word; white-space: normal;\">Images/13062.jpg</h4><img src=\"Images/13062.jpg\" style=\"margin: 1px; width: 150px; border: 2px solid #ddd;\"/></div><div style=\"display: inline-block; width: 170px; vertical-align: top; text-align: center;\"><h4 style=\"font-size: 12px\">Chicken Cheese Chowder 4.681818181818182</h4><h4 style=\"font-size: 9px; padding-left: 10px; padding-right: 10px; width: 90%; word-wrap: break-word; white-space: normal;\">Images/13398.jpg</h4><img src=\"Images/13398.jpg\" style=\"margin: 1px; width: 150px; border: 2px solid #ddd;\"/></div><div style=\"display: inline-block; width: 170px; vertical-align: top; text-align: center;\"><h4 style=\"font-size: 12px\">Spinach and Blue Cheese Soup 4.607142857142857</h4><h4 style=\"font-size: 9px; padding-left: 10px; padding-right: 10px; width: 90%; word-wrap: break-word; white-space: normal;\">Images/16684.jpg</h4><img src=\"Images/16684.jpg\" style=\"margin: 1px; width: 150px; border: 2px solid #ddd;\"/></div><div style=\"display: inline-block; width: 170px; vertical-align: top; text-align: center;\"><h4 style=\"font-size: 12px\">Creamy Broccoli Soup 4.504273504273504</h4><h4 style=\"font-size: 9px; padding-left: 10px; padding-right: 10px; width: 90%; word-wrap: break-word; white-space: normal;\">Images/13203.jpg</h4><img src=\"Images/13203.jpg\" style=\"margin: 1px; width: 150px; border: 2px solid #ddd;\"/></div><div style=\"display: inline-block; width: 170px; vertical-align: top; text-align: center;\"><h4 style=\"font-size: 12px\">Potato, Broccoli and Cheese Soup 4.526153846153846</h4><h4 style=\"font-size: 9px; padding-left: 10px; padding-right: 10px; width: 90%; word-wrap: break-word; white-space: normal;\">Images/13353.jpg</h4><img src=\"Images/13353.jpg\" style=\"margin: 1px; width: 150px; border: 2px solid #ddd;\"/></div><div style=\"display: inline-block; width: 170px; vertical-align: top; text-align: center;\"><h4 style=\"font-size: 12px\">Vegetable Cheesy Soup 4.5</h4><h4 style=\"font-size: 9px; padding-left: 10px; padding-right: 10px; width: 90%; word-wrap: break-word; white-space: normal;\">Images/13236.jpg</h4><img src=\"Images/13236.jpg\" style=\"margin: 1px; width: 150px; border: 2px solid #ddd;\"/></div><div style=\"display: inline-block; width: 170px; vertical-align: top; text-align: center;\"><h4 style=\"font-size: 12px\">Green Chile Chicken Soup 4.457627118644068</h4><h4 style=\"font-size: 9px; padding-left: 10px; padding-right: 10px; width: 90%; word-wrap: break-word; white-space: normal;\">Images/8767.jpg</h4><img src=\"Images/8767.jpg\" style=\"margin: 1px; width: 150px; border: 2px solid #ddd;\"/></div>"
      ],
      "text/plain": [
       "<IPython.core.display.HTML object>"
      ]
     },
     "metadata": {},
     "output_type": "display_data"
    }
   ],
   "source": [
    "plot_recipes(index_to_id(index[bow_corpus[5600]].argsort()[-10:][::-1]));"
   ]
  },
  {
   "cell_type": "markdown",
   "metadata": {},
   "source": [
    "### K-Neighbors User-User Collaborative filtering recommender system"
   ]
  },
  {
   "cell_type": "code",
   "execution_count": 71,
   "metadata": {},
   "outputs": [],
   "source": [
    "#Keep only recipes with more than 30 reviews\n",
    "mask=reviews.groupby(\"Recipe_ID\").size()[(reviews.groupby(\"Recipe_ID\").size()>200)].index\n",
    "reviews=reviews[reviews[\"Recipe_ID\"].isin(mask)]\n",
    "recipes=recipes[recipes[\"Recipe_ID\"].isin(reviews[\"Recipe_ID\"].unique())]\n",
    "\n",
    "#Keep only users with more than 10 reviews\n",
    "mask=reviews.groupby(\"Reviewer_ID\").size()[(reviews.groupby(\"Reviewer_ID\").size()>10)].index\n",
    "reviews=reviews[reviews[\"Reviewer_ID\"].isin(mask)]\n",
    "recipes=recipes[recipes[\"Recipe_ID\"].isin(reviews[\"Recipe_ID\"].unique())]"
   ]
  },
  {
   "cell_type": "code",
   "execution_count": 72,
   "metadata": {
    "scrolled": false
   },
   "outputs": [
    {
     "data": {
      "text/plain": [
       "3748"
      ]
     },
     "execution_count": 72,
     "metadata": {},
     "output_type": "execute_result"
    }
   ],
   "source": [
    "len(reviews[\"Recipe_ID\"].unique())"
   ]
  },
  {
   "cell_type": "code",
   "execution_count": 73,
   "metadata": {
    "scrolled": false
   },
   "outputs": [
    {
     "data": {
      "text/plain": [
       "34267"
      ]
     },
     "execution_count": 73,
     "metadata": {},
     "output_type": "execute_result"
    }
   ],
   "source": [
    "len(reviews[\"Reviewer_ID\"].unique())"
   ]
  },
  {
   "cell_type": "code",
   "execution_count": 51,
   "metadata": {},
   "outputs": [],
   "source": [
    "#Create user-item sparse pivot matrix\n",
    "\n",
    "def create_user_item_matrix(reviews) : \n",
    "    \n",
    "\n",
    "    from scipy.sparse import csr_matrix\n",
    "    from pandas.api.types import CategoricalDtype\n",
    "\n",
    "    user_c = CategoricalDtype(sorted(reviews[\"Reviewer_ID\"].unique()), ordered=True)\n",
    "    item_c = CategoricalDtype(sorted(reviews[\"Recipe_ID\"].unique()), ordered=True)\n",
    "\n",
    "    row = reviews[\"Reviewer_ID\"].astype(user_c).cat.codes\n",
    "    col = reviews[\"Recipe_ID\"].astype(item_c).cat.codes\n",
    "\n",
    "    user_item = csr_matrix((reviews[\"Rating\"], (row, col)), \n",
    "                                         shape=(user_c.categories.size, item_c.categories.size))\n",
    "    \n",
    "    return user_item.astype(\"float\")"
   ]
  },
  {
   "cell_type": "code",
   "execution_count": 52,
   "metadata": {},
   "outputs": [],
   "source": [
    "def compute_user_similarities(user_item) : \n",
    "\n",
    "    # Compute user-user cosine similarity matrix \n",
    "    from sklearn.metrics.pairwise import cosine_similarity\n",
    "    user_similarities = cosine_similarity(user_item,dense_output=False)    \n",
    "    return user_similarities"
   ]
  },
  {
   "cell_type": "code",
   "execution_count": 25,
   "metadata": {},
   "outputs": [],
   "source": [
    "def get_similar_users(user, user_similarities,k) :\n",
    "    \n",
    "    return (user_similarities[user].toarray().flatten()[user_similarities[user].toarray().argsort()[0][-k:-1]],\n",
    "            user_similarities[user].toarray().argsort()[0][-k:-1])"
   ]
  },
  {
   "cell_type": "code",
   "execution_count": 26,
   "metadata": {},
   "outputs": [],
   "source": [
    "def predict_user_ratings(user,similar_users,weights,user_item) :   \n",
    "    \n",
    "    user_ratings_pred= ((weights.reshape(1,weights.shape[0])*user_item[similar_users])/weights.sum()) \n",
    "     \n",
    "    return  user_ratings_pred "
   ]
  },
  {
   "cell_type": "code",
   "execution_count": 27,
   "metadata": {},
   "outputs": [],
   "source": [
    "def top_n_recommendations(user,user_ratings_pred,n=10) :\n",
    "    \n",
    "    user_ratings_pred=np.delete(user_ratings_pred,user_item[user].nonzero()[1])\n",
    "    \n",
    "    return user_ratings_pred.argsort()[-n:]"
   ]
  },
  {
   "cell_type": "code",
   "execution_count": 28,
   "metadata": {},
   "outputs": [],
   "source": [
    "def get_recommendations(user,user_similarities,user_item_matrix, k=20,n=10) :\n",
    "    \n",
    "    weights,similar_users=get_similar_users(user,user_similarities,k)\n",
    "    user_ratings_pred=predict_user_ratings(user,similar_users,weights,user_item)\n",
    "    \n",
    "    return top_n_recommendations(user,user_ratings_pred,n)\n"
   ]
  },
  {
   "cell_type": "code",
   "execution_count": 74,
   "metadata": {},
   "outputs": [],
   "source": [
    "user_item=create_user_item_matrix(reviews)\n",
    "user_similarities=compute_user_similarities(user_item)"
   ]
  },
  {
   "cell_type": "code",
   "execution_count": 81,
   "metadata": {
    "scrolled": false
   },
   "outputs": [
    {
     "data": {
      "text/html": [
       "<div style=\"display: inline-block; width: 170px; vertical-align: top; text-align: center;\"><h4 style=\"font-size: 12px\">Emma's Belgian Waffles 4.422907488986784</h4><h4 style=\"font-size: 9px; padding-left: 10px; padding-right: 10px; width: 90%; word-wrap: break-word; white-space: normal;\">Images/23390.jpg</h4><img src=\"Images/23390.jpg\" style=\"margin: 1px; width: 150px; border: 2px solid #ddd;\"/></div><div style=\"display: inline-block; width: 170px; vertical-align: top; text-align: center;\"><h4 style=\"font-size: 12px\">Toasted Pumpkin Seeds 4.65</h4><h4 style=\"font-size: 9px; padding-left: 10px; padding-right: 10px; width: 90%; word-wrap: break-word; white-space: normal;\">Images/55091.jpg</h4><img src=\"Images/55091.jpg\" style=\"margin: 1px; width: 150px; border: 2px solid #ddd;\"/></div><div style=\"display: inline-block; width: 170px; vertical-align: top; text-align: center;\"><h4 style=\"font-size: 12px\">Low Carb Cauliflower Leek Soup 4.68454258675079</h4><h4 style=\"font-size: 9px; padding-left: 10px; padding-right: 10px; width: 90%; word-wrap: break-word; white-space: normal;\">Images/69635.jpg</h4><img src=\"Images/69635.jpg\" style=\"margin: 1px; width: 150px; border: 2px solid #ddd;\"/></div><div style=\"display: inline-block; width: 170px; vertical-align: top; text-align: center;\"><h4 style=\"font-size: 12px\">Peach-a-Berry Pie 4.747619047619048</h4><h4 style=\"font-size: 9px; padding-left: 10px; padding-right: 10px; width: 90%; word-wrap: break-word; white-space: normal;\">Images/88278.jpg</h4><img src=\"Images/88278.jpg\" style=\"margin: 1px; width: 150px; border: 2px solid #ddd;\"/></div><div style=\"display: inline-block; width: 170px; vertical-align: top; text-align: center;\"><h4 style=\"font-size: 12px\">Fudgy Chocolate Cream Pie 4.56273764258555</h4><h4 style=\"font-size: 9px; padding-left: 10px; padding-right: 10px; width: 90%; word-wrap: break-word; white-space: normal;\">Images/12353.jpg</h4><img src=\"Images/12353.jpg\" style=\"margin: 1px; width: 150px; border: 2px solid #ddd;\"/></div><div style=\"display: inline-block; width: 170px; vertical-align: top; text-align: center;\"><h4 style=\"font-size: 12px\">Lemon Bundt Cake 4.6858108108108105</h4><h4 style=\"font-size: 9px; padding-left: 10px; padding-right: 10px; width: 90%; word-wrap: break-word; white-space: normal;\">Images/23433.jpg</h4><img src=\"Images/23433.jpg\" style=\"margin: 1px; width: 150px; border: 2px solid #ddd;\"/></div><div style=\"display: inline-block; width: 170px; vertical-align: top; text-align: center;\"><h4 style=\"font-size: 12px\">Slow Cooker Chicken and Dumplings 4.388466696468485</h4><h4 style=\"font-size: 9px; padding-left: 10px; padding-right: 10px; width: 90%; word-wrap: break-word; white-space: normal;\">Images/8941.jpg</h4><img src=\"Images/8941.jpg\" style=\"margin: 1px; width: 150px; border: 2px solid #ddd;\"/></div><div style=\"display: inline-block; width: 170px; vertical-align: top; text-align: center;\"><h4 style=\"font-size: 12px\">Traditional White Bread 4.776</h4><h4 style=\"font-size: 9px; padding-left: 10px; padding-right: 10px; width: 90%; word-wrap: break-word; white-space: normal;\">Images/20066.jpg</h4><img src=\"Images/20066.jpg\" style=\"margin: 1px; width: 150px; border: 2px solid #ddd;\"/></div><div style=\"display: inline-block; width: 170px; vertical-align: top; text-align: center;\"><h4 style=\"font-size: 12px\">Caramelized Brussels Sprouts with Pistachios 4.542857142857144</h4><h4 style=\"font-size: 9px; padding-left: 10px; padding-right: 10px; width: 90%; word-wrap: break-word; white-space: normal;\">Images/16015.jpg</h4><img src=\"Images/16015.jpg\" style=\"margin: 1px; width: 150px; border: 2px solid #ddd;\"/></div><div style=\"display: inline-block; width: 170px; vertical-align: top; text-align: center;\"><h4 style=\"font-size: 12px\">Round Steak and Gravy II 4.515837104072398</h4><h4 style=\"font-size: 9px; padding-left: 10px; padding-right: 10px; width: 90%; word-wrap: break-word; white-space: normal;\">Images/26647.jpg</h4><img src=\"Images/26647.jpg\" style=\"margin: 1px; width: 150px; border: 2px solid #ddd;\"/></div>"
      ],
      "text/plain": [
       "<IPython.core.display.HTML object>"
      ]
     },
     "metadata": {},
     "output_type": "display_data"
    }
   ],
   "source": [
    "plot_recipes(recipes[\"Recipe_ID\"].iloc[get_recommendations(58,user_similarities,user_item)].values);"
   ]
  },
  {
   "cell_type": "code",
   "execution_count": 82,
   "metadata": {},
   "outputs": [],
   "source": [
    "from sklearn.model_selection import train_test_split\n",
    "reviews_train,reviews_test=train_test_split(reviews,test_size=0.45,stratify=reviews[[\"Reviewer_ID\"]])"
   ]
  },
  {
   "cell_type": "code",
   "execution_count": 83,
   "metadata": {},
   "outputs": [
    {
     "data": {
      "text/plain": [
       "34267"
      ]
     },
     "execution_count": 83,
     "metadata": {},
     "output_type": "execute_result"
    }
   ],
   "source": [
    "len(reviews_test[\"Reviewer_ID\"].unique())"
   ]
  },
  {
   "cell_type": "code",
   "execution_count": 84,
   "metadata": {},
   "outputs": [
    {
     "data": {
      "text/plain": [
       "3748"
      ]
     },
     "execution_count": 84,
     "metadata": {},
     "output_type": "execute_result"
    }
   ],
   "source": [
    "len(reviews_test[\"Recipe_ID\"].unique())"
   ]
  },
  {
   "cell_type": "code",
   "execution_count": 85,
   "metadata": {},
   "outputs": [],
   "source": [
    "#Create train item-user and user-item matrices\n",
    "user_item_train=create_user_item_matrix(reviews_train)\n",
    "\n",
    "#Create test item-user and user-item matrices\n",
    "user_item_test=create_user_item_matrix(reviews_test)"
   ]
  },
  {
   "cell_type": "code",
   "execution_count": 86,
   "metadata": {},
   "outputs": [],
   "source": [
    "#scale item-user matrix \n",
    "user_mean_rating=np.array(reviews_train.groupby(\"Reviewer_ID\")[\"Rating\"].mean())\n",
    "nz = user_item_train.nonzero()\n",
    "user_item_train_scaled=user_item_train.copy()\n",
    "user_item_train_scaled[user_item_train_scaled.nonzero()] -= user_mean_rating[nz[0]]"
   ]
  },
  {
   "cell_type": "code",
   "execution_count": 87,
   "metadata": {},
   "outputs": [],
   "source": [
    "user_similarities_train=compute_user_similarities(user_item_train_scaled)"
   ]
  },
  {
   "cell_type": "code",
   "execution_count": 88,
   "metadata": {},
   "outputs": [],
   "source": [
    "users=np.arange(len(reviews[\"Reviewer_ID\"].unique()))\n",
    "predictions=[]\n",
    "for user in users :\n",
    "    weights,similar_users=get_similar_users(user, user_similarities_train,5)\n",
    "    user_pred=((user_item_train_scaled[similar_users].toarray().T.dot(weights))+user_mean_rating[user])\n",
    "    #user_pred[user_pred>5]=5\n",
    "    #user_pred[user_pred<1]=1\n",
    "    predictions.append(user_pred)"
   ]
  },
  {
   "cell_type": "code",
   "execution_count": 89,
   "metadata": {},
   "outputs": [],
   "source": [
    "predictions=np.array(predictions)"
   ]
  },
  {
   "cell_type": "code",
   "execution_count": 90,
   "metadata": {},
   "outputs": [
    {
     "data": {
      "text/plain": [
       "0.5613716762832105"
      ]
     },
     "execution_count": 90,
     "metadata": {},
     "output_type": "execute_result"
    }
   ],
   "source": [
    "#baseline MAE evaluation\n",
    "nz = user_item_test.nonzero()\n",
    "np.mean((np.abs(user_item_test[nz][0]-user_mean_rating[nz[0]])))"
   ]
  },
  {
   "cell_type": "code",
   "execution_count": 91,
   "metadata": {},
   "outputs": [
    {
     "data": {
      "text/plain": [
       "0.5607275536687654"
      ]
     },
     "execution_count": 91,
     "metadata": {},
     "output_type": "execute_result"
    }
   ],
   "source": [
    "#Item item collaborative filtering MAE evaluation\n",
    "np.mean(np.abs(user_item_test[nz][0]-predictions[nz]))"
   ]
  },
  {
   "cell_type": "code",
   "execution_count": 92,
   "metadata": {},
   "outputs": [
    {
     "data": {
      "text/plain": [
       "15810"
      ]
     },
     "execution_count": 92,
     "metadata": {},
     "output_type": "execute_result"
    }
   ],
   "source": [
    "recipes[\"Recipe_ID\"].iloc[1192]"
   ]
  },
  {
   "cell_type": "code",
   "execution_count": 93,
   "metadata": {},
   "outputs": [],
   "source": [
    "sorted_predictions=predictions.argsort()"
   ]
  },
  {
   "cell_type": "code",
   "execution_count": 182,
   "metadata": {},
   "outputs": [],
   "source": [
    "recommended_recipes=pd.DataFrame(sorted_predictions[:,-1:].flatten()).groupby(0).size().sort_values(ascending=False)"
   ]
  },
  {
   "cell_type": "code",
   "execution_count": 183,
   "metadata": {
    "scrolled": true
   },
   "outputs": [
    {
     "data": {
      "text/plain": [
       "0\n",
       "3747    4434\n",
       "2698     330\n",
       "2007     305\n",
       "2617     293\n",
       "3388     283\n",
       "        ... \n",
       "1895       1\n",
       "1896       1\n",
       "3555       1\n",
       "650        1\n",
       "1530       1\n",
       "Length: 3078, dtype: int64"
      ]
     },
     "execution_count": 183,
     "metadata": {},
     "output_type": "execute_result"
    }
   ],
   "source": [
    "recommended_recipes"
   ]
  },
  {
   "cell_type": "code",
   "execution_count": 186,
   "metadata": {},
   "outputs": [
    {
     "data": {
      "image/png": "[encoded data removed]",
      "text/plain": [
       "<Figure size 432x288 with 1 Axes>"
      ]
     },
     "metadata": {},
     "output_type": "display_data"
    }
   ],
   "source": [
    "plt.hist(recommended_recipes[100:],bins=40);"
   ]
  },
  {
   "cell_type": "code",
   "execution_count": 204,
   "metadata": {},
   "outputs": [
    {
     "data": {
      "text/html": [
       "<div style=\"display: inline-block; width: 170px; vertical-align: top; text-align: center;\"><h4 style=\"font-size: 12px\">Cheeseburger Meatloaf  4.449860724233983</h4><h4 style=\"font-size: 9px; padding-left: 10px; padding-right: 10px; width: 90%; word-wrap: break-word; white-space: normal;\">Images/16189.jpg</h4><img src=\"Images/16189.jpg\" style=\"margin: 1px; width: 150px; border: 2px solid #ddd;\"/></div><div style=\"display: inline-block; width: 170px; vertical-align: top; text-align: center;\"><h4 style=\"font-size: 12px\">Quick and Easy Alfredo Sauce 4.616945712836125</h4><h4 style=\"font-size: 9px; padding-left: 10px; padding-right: 10px; width: 90%; word-wrap: break-word; white-space: normal;\">Images/19402.jpg</h4><img src=\"Images/19402.jpg\" style=\"margin: 1px; width: 150px; border: 2px solid #ddd;\"/></div><div style=\"display: inline-block; width: 170px; vertical-align: top; text-align: center;\"><h4 style=\"font-size: 12px\">Goulash Supreme 3.9928400954653935</h4><h4 style=\"font-size: 9px; padding-left: 10px; padding-right: 10px; width: 90%; word-wrap: break-word; white-space: normal;\">Images/11847.jpg</h4><img src=\"Images/11847.jpg\" style=\"margin: 1px; width: 150px; border: 2px solid #ddd;\"/></div><div style=\"display: inline-block; width: 170px; vertical-align: top; text-align: center;\"><h4 style=\"font-size: 12px\">Hot Cocoa Mix in a Jar 4.086363636363636</h4><h4 style=\"font-size: 9px; padding-left: 10px; padding-right: 10px; width: 90%; word-wrap: break-word; white-space: normal;\">Images/32292.jpg</h4><img src=\"Images/32292.jpg\" style=\"margin: 1px; width: 150px; border: 2px solid #ddd;\"/></div><div style=\"display: inline-block; width: 170px; vertical-align: top; text-align: center;\"><h4 style=\"font-size: 12px\">BLT Pasta Salad 4.437172774869111</h4><h4 style=\"font-size: 9px; padding-left: 10px; padding-right: 10px; width: 90%; word-wrap: break-word; white-space: normal;\">Images/72823.jpg</h4><img src=\"Images/72823.jpg\" style=\"margin: 1px; width: 150px; border: 2px solid #ddd;\"/></div><div style=\"display: inline-block; width: 170px; vertical-align: top; text-align: center;\"><h4 style=\"font-size: 12px\">Creamy Rice Pudding 4.740859683794467</h4><h4 style=\"font-size: 9px; padding-left: 10px; padding-right: 10px; width: 90%; word-wrap: break-word; white-space: normal;\">Images/24059.jpg</h4><img src=\"Images/24059.jpg\" style=\"margin: 1px; width: 150px; border: 2px solid #ddd;\"/></div><div style=\"display: inline-block; width: 170px; vertical-align: top; text-align: center;\"><h4 style=\"font-size: 12px\">Best Bread Machine Bread 4.6420564360262855</h4><h4 style=\"font-size: 9px; padding-left: 10px; padding-right: 10px; width: 90%; word-wrap: break-word; white-space: normal;\">Images/17215.jpg</h4><img src=\"Images/17215.jpg\" style=\"margin: 1px; width: 150px; border: 2px solid #ddd;\"/></div><div style=\"display: inline-block; width: 170px; vertical-align: top; text-align: center;\"><h4 style=\"font-size: 12px\">Vegan Chocolate Cake 4.6350148367952535</h4><h4 style=\"font-size: 9px; padding-left: 10px; padding-right: 10px; width: 90%; word-wrap: break-word; white-space: normal;\">Images/16779.jpg</h4><img src=\"Images/16779.jpg\" style=\"margin: 1px; width: 150px; border: 2px solid #ddd;\"/></div><div style=\"display: inline-block; width: 170px; vertical-align: top; text-align: center;\"><h4 style=\"font-size: 12px\">Fresh Cherry Cobbler 4.303125</h4><h4 style=\"font-size: 9px; padding-left: 10px; padding-right: 10px; width: 90%; word-wrap: break-word; white-space: normal;\">Images/72815.jpg</h4><img src=\"Images/72815.jpg\" style=\"margin: 1px; width: 150px; border: 2px solid #ddd;\"/></div><div style=\"display: inline-block; width: 170px; vertical-align: top; text-align: center;\"><h4 style=\"font-size: 12px\">Smothered Green Beans 4.556338028169014</h4><h4 style=\"font-size: 9px; padding-left: 10px; padding-right: 10px; width: 90%; word-wrap: break-word; white-space: normal;\">Images/18329.jpg</h4><img src=\"Images/18329.jpg\" style=\"margin: 1px; width: 150px; border: 2px solid #ddd;\"/></div>"
      ],
      "text/plain": [
       "<IPython.core.display.HTML object>"
      ]
     },
     "metadata": {},
     "output_type": "display_data"
    }
   ],
   "source": [
    "plot_recipes(recipes[\"Recipe_ID\"].iloc[sorted_predictions[:,-20:-10][1400]].values);"
   ]
  },
  {
   "cell_type": "markdown",
   "metadata": {},
   "source": [
    "### Collaborative filtering with matrix factorization "
   ]
  },
  {
   "cell_type": "code",
   "execution_count": null,
   "metadata": {},
   "outputs": [],
   "source": [
    "from sklearn.model_selection import train_test_split\n",
    "Recipe_ids_train,Recipe_ids_test=train_test_split(recipes[\"Recipe_ID\"],test_size=0.25,random_state=42)"
   ]
  },
  {
   "cell_type": "code",
   "execution_count": null,
   "metadata": {},
   "outputs": [],
   "source": [
    "reviews_train=reviews[reviews[\"Recipe_ID\"].isin(Recipe_ids_train)]\n",
    "reviews_test=reviews[reviews[\"Recipe_ID\"].isin(Recipe_ids_test)]"
   ]
  },
  {
   "cell_type": "code",
   "execution_count": 709,
   "metadata": {},
   "outputs": [],
   "source": [
    "from scipy.sparse.linalg import svds\n",
    "#The number of factors to factor the user-item matrix.\n",
    "NUMBER_OF_FACTORS_MF = 15\n",
    "#Performs matrix factorization of the original user item matrix\n",
    "#U, sigma, Vt = svds(users_items_pivot_matrix, k = NUMBER_OF_FACTORS_MF)\n",
    "\n",
    "U, sigma, Vt = svds(user_item.asfptype(), k = NUMBER_OF_FACTORS_MF)"
   ]
  },
  {
   "cell_type": "code",
   "execution_count": 714,
   "metadata": {},
   "outputs": [
    {
     "data": {
      "text/plain": [
       "(50092, 15)"
      ]
     },
     "execution_count": 714,
     "metadata": {},
     "output_type": "execute_result"
    }
   ],
   "source": [
    "U.shape"
   ]
  },
  {
   "cell_type": "code",
   "execution_count": null,
   "metadata": {},
   "outputs": [],
   "source": [
    "all_user_predicted_ratings = np.dot(np.dot(U,np.diag(sigma)),Vt )"
   ]
  },
  {
   "cell_type": "code",
   "execution_count": null,
   "metadata": {},
   "outputs": [],
   "source": [
    "#Converting the reconstructed matrix back to a Pandas dataframe\n",
    "cf_preds_df = pd.DataFrame(all_user_predicted_ratings, columns = users_reviews_pivot_matrix.columns, index=users_reviews_pivot_matrix.index).transpose()"
   ]
  },
  {
   "cell_type": "code",
   "execution_count": null,
   "metadata": {},
   "outputs": [],
   "source": [
    "cf_preds_df[240].sort_values(ascending=False).index[:10]"
   ]
  },
  {
   "cell_type": "code",
   "execution_count": null,
   "metadata": {
    "scrolled": false
   },
   "outputs": [],
   "source": [
    "cf_preds_df"
   ]
  },
  {
   "cell_type": "code",
   "execution_count": null,
   "metadata": {},
   "outputs": [],
   "source": [
    "plot_recipes(cf_preds_df[521].sort_values(ascending=False).index[:20]);"
   ]
  },
  {
   "cell_type": "code",
   "execution_count": null,
   "metadata": {},
   "outputs": [],
   "source": [
    "plot_recipes(cf_preds_df[22079061].sort_values(ascending=False).index[:20]);"
   ]
  },
  {
   "cell_type": "code",
   "execution_count": null,
   "metadata": {},
   "outputs": [],
   "source": []
  }
 ],
 "metadata": {
  "kernelspec": {
   "display_name": "snowflakes",
   "language": "python",
   "name": "snowflakes"
  },
  "language_info": {
   "codemirror_mode": {
    "name": "ipython",
    "version": 3
   },
   "file_extension": ".py",
   "mimetype": "text/x-python",
   "name": "python",
   "nbconvert_exporter": "python",
   "pygments_lexer": "ipython3",
   "version": "3.6.10"
  }
 },
 "nbformat": 4,
 "nbformat_minor": 4
}
